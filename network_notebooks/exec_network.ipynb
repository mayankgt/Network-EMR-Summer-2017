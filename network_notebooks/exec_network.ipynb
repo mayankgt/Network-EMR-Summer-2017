{
 "cells": [
  {
   "cell_type": "code",
   "execution_count": 1,
   "metadata": {
    "collapsed": true
   },
   "outputs": [],
   "source": [
    "import networkx as nx\n",
    "import pandas as pd\n",
    "import itertools "
   ]
  },
  {
   "cell_type": "code",
   "execution_count": 2,
   "metadata": {
    "collapsed": true
   },
   "outputs": [],
   "source": [
    "#reading data\n",
    "execu = pd.read_csv('../Data(net)/unique_exec_network.csv')\n",
    "hosp_name = pd.read_csv('../Data(net)/hosp_sample.csv')\n",
    "exec_name = pd.read_csv('../Data(net)/exec_sample.csv')"
   ]
  },
  {
   "cell_type": "code",
   "execution_count": 3,
   "metadata": {
    "collapsed": true
   },
   "outputs": [],
   "source": [
    "#Creating Graph\n",
    "G = nx.Graph()\n",
    "G.name = 'G3 (Node:Executives, Edge:Hospital)'"
   ]
  },
  {
   "cell_type": "code",
   "execution_count": 4,
   "metadata": {
    "collapsed": true
   },
   "outputs": [],
   "source": [
    "#Assigning attributes to the Executives & creating nodes.\n",
    "for i in execu['EXEC_ID']:\n",
    "    name = (exec_name['EXECUTIVE NAME'][i])\n",
    "    G.add_node(i,V_Name = name)"
   ]
  },
  {
   "cell_type": "code",
   "execution_count": 5,
   "metadata": {
    "collapsed": true
   },
   "outputs": [],
   "source": [
    "#Sorting the data by executives id & creating edges.\n",
    "k=0\n",
    "for i in execu.index:\n",
    "    for j in execu.index[(i+1): ]:\n",
    "        if execu['HOSP_ID'][j]==execu['HOSP_ID'][i]:\n",
    "            a=(execu['EXEC_ID'][i])\n",
    "            b=(execu['EXEC_ID'][j])\n",
    "            h_name = (hosp_name['HOSPITAL NAME'][execu['HOSP_ID'][j]])\n",
    "            G.add_edge(a,b,E_Name = h_name)"
   ]
  },
  {
   "cell_type": "code",
   "execution_count": 6,
   "metadata": {
    "collapsed": true
   },
   "outputs": [],
   "source": [
    "nx.write_gexf(G, 'G3.gexf')"
   ]
  },
  {
   "cell_type": "code",
   "execution_count": null,
   "metadata": {
    "collapsed": true
   },
   "outputs": [],
   "source": []
  }
 ],
 "metadata": {
  "kernelspec": {
   "display_name": "Python 3",
   "language": "python",
   "name": "python3"
  },
  "language_info": {
   "codemirror_mode": {
    "name": "ipython",
    "version": 3
   },
   "file_extension": ".py",
   "mimetype": "text/x-python",
   "name": "python",
   "nbconvert_exporter": "python",
   "pygments_lexer": "ipython3",
   "version": "3.6.1"
  }
 },
 "nbformat": 4,
 "nbformat_minor": 2
}
