{
 "cells": [
  {
   "cell_type": "code",
   "execution_count": 335,
   "metadata": {
    "collapsed": true
   },
   "outputs": [],
   "source": [
    "import itertools\n",
    "import pandas as pd\n",
    "import numpy as np\n",
    "import networkx as nx\n",
    "import nxviz as nv\n",
    "\n",
    "import matplotlib.pyplot as plt\n",
    "from matplotlib import style\n",
    "style.use('ggplot')"
   ]
  },
  {
   "cell_type": "code",
   "execution_count": 336,
   "metadata": {
    "collapsed": true
   },
   "outputs": [],
   "source": [
    "hosp = pd.read_csv('./Data(net)/hosp_sample.csv')\n",
    "doc = pd.read_csv('./Data(net)/doc_sample.csv')\n",
    "doc_net = pd.read_csv('./Data(net)/doc_network.csv')"
   ]
  },
  {
   "cell_type": "markdown",
   "metadata": {},
   "source": [
    "## Initializing Graph G1"
   ]
  },
  {
   "cell_type": "code",
   "execution_count": 337,
   "metadata": {
    "collapsed": true
   },
   "outputs": [],
   "source": [
    "# Graph G1 with nodes as doctors and edges as Hospitals\n",
    "G1 = nx.Graph()\n",
    "G1.name = 'G1 (Node:Doctor, Edge:Hospital)'"
   ]
  },
  {
   "cell_type": "code",
   "execution_count": 338,
   "metadata": {},
   "outputs": [],
   "source": [
    "# making a list of all hospitals for which each hospital is associated\n",
    "\n",
    "grp_list = list(doc.groupby('DOC_ID'))\n",
    "total_doc_ids = 6789\n",
    "doc_hosp = []\n",
    "\n",
    "for doc_id in range(total_doc_ids+1):\n",
    "    listing = list(grp_list[doc_id][1]['HOSPITAL'])\n",
    "    doc_hosp.append(listing)"
   ]
  },
  {
   "cell_type": "code",
   "execution_count": 339,
   "metadata": {},
   "outputs": [],
   "source": [
    "#Creating Nodes\n",
    "\n",
    "nodes_attr = []\n",
    "for row in range(len(doc)):\n",
    "    attr = list(zip(doc.columns[1:], doc.iloc[row,1:]))\n",
    "    attr = dict(attr)\n",
    "    nodes_attr.append(attr)\n",
    "\n",
    "nodes = list(zip(doc['DOC_ID'], nodes_attr))\n",
    "G1.add_nodes_from(nodes)\n",
    "\n",
    "#modifying hospital attribute of nodes to add all the hospitals\n",
    "for node in G1.nodes():\n",
    "    G1.node[node]['HOSPITAL'] = doc_hosp[node]"
   ]
  },
  {
   "cell_type": "code",
   "execution_count": 340,
   "metadata": {},
   "outputs": [
    {
     "name": "stdout",
     "output_type": "stream",
     "text": [
      "Total Doctors(with repeatition): 7415\n",
      "Total Doctors(without repeatition): 6790\n"
     ]
    }
   ],
   "source": [
    "print('Total Doctors(with repeatition): %d\\nTotal Doctors(without repeatition): %d' %(len(doc), len(G1.nodes())))"
   ]
  },
  {
   "cell_type": "code",
   "execution_count": 341,
   "metadata": {},
   "outputs": [
    {
     "data": {
      "text/plain": [
       "{'EXPERIENCE': nan,\n",
       " 'HOSPITAL': ['Mata Chanan Devi Hospital', 'Primus Super Speciality Hospital'],\n",
       " 'NAME': 'Dr Rajat Goel',\n",
       " 'QUALIFICATION': nan,\n",
       " 'SPECIALTIES': 'GeneralSurgeon,LaparoscopicSurgeon,BariatricSurgeon'}"
      ]
     },
     "execution_count": 341,
     "metadata": {},
     "output_type": "execute_result"
    }
   ],
   "source": [
    "G1.node[12]"
   ]
  },
  {
   "cell_type": "code",
   "execution_count": 342,
   "metadata": {},
   "outputs": [],
   "source": [
    "#Creating Edges\n",
    "\n",
    "for i,group in doc_net.groupby('HOSP_ID')['DOC_ID']:\n",
    "    for u,v in itertools.combinations(group, 2):\n",
    "        set_u = set(G1.node[u]['HOSPITAL'])\n",
    "        set_v = set(G1.node[v]['HOSPITAL'])\n",
    "        common_hosp = list(set_u.intersection(set_v))\n",
    "        G1.add_edge(u, v, attr_dict={'HOSPITAL':common_hosp})\n"
   ]
  },
  {
   "cell_type": "code",
   "execution_count": 343,
   "metadata": {},
   "outputs": [
    {
     "name": "stdout",
     "output_type": "stream",
     "text": [
      "Name: G1 (Node:Doctor, Edge:Hospital)\n",
      "Type: Graph\n",
      "Number of nodes: 6790\n",
      "Number of edges: 440777\n",
      "Average degree: 129.8312\n"
     ]
    }
   ],
   "source": [
    "#Summary of Graph G1\n",
    "print(nx.info(G1))"
   ]
  },
  {
   "cell_type": "markdown",
   "metadata": {},
   "source": [
    "## Network Analysis"
   ]
  },
  {
   "cell_type": "code",
   "execution_count": null,
   "metadata": {
    "collapsed": true
   },
   "outputs": [],
   "source": []
  }
 ],
 "metadata": {
  "kernelspec": {
   "display_name": "Python 3",
   "language": "python",
   "name": "python3"
  },
  "language_info": {
   "codemirror_mode": {
    "name": "ipython",
    "version": 3
   },
   "file_extension": ".py",
   "mimetype": "text/x-python",
   "name": "python",
   "nbconvert_exporter": "python",
   "pygments_lexer": "ipython3",
   "version": "3.6.1"
  }
 },
 "nbformat": 4,
 "nbformat_minor": 2
}
