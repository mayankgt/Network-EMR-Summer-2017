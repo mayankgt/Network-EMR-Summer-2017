{
 "cells": [
  {
   "cell_type": "code",
   "execution_count": 16,
   "metadata": {
    "collapsed": true
   },
   "outputs": [],
   "source": [
    "import itertools\n",
    "import pandas as pd\n",
    "import numpy as np\n",
    "import networkx as nx\n",
    "import nxviz as nv\n",
    "\n",
    "import matplotlib.pyplot as plt\n",
    "from matplotlib import style\n",
    "style.use('ggplot')\n",
    "%matplotlib inline"
   ]
  },
  {
   "cell_type": "code",
   "execution_count": 17,
   "metadata": {
    "collapsed": true
   },
   "outputs": [],
   "source": [
    "doc = pd.read_csv('../Data(net)/doc_sample.csv')\n",
    "doc_net = pd.read_csv('../Data(net)/doc_network.csv')"
   ]
  },
  {
   "cell_type": "markdown",
   "metadata": {},
   "source": [
    "## Initializing Graph G1"
   ]
  },
  {
   "cell_type": "code",
   "execution_count": 18,
   "metadata": {
    "collapsed": true
   },
   "outputs": [],
   "source": [
    "# Graph G1 with nodes as doctors and edges as Hospitals\n",
    "G1 = nx.Graph()\n",
    "G1.name = 'G1 (Node:Doctor, Edge:Hospital)'"
   ]
  },
  {
   "cell_type": "code",
   "execution_count": 19,
   "metadata": {
    "collapsed": true
   },
   "outputs": [],
   "source": [
    "# making a list of all hospitals for which each hospital is associated\n",
    "\n",
    "grp_list = list(doc.groupby('DOC_ID'))\n",
    "total_doc_ids = 6789\n",
    "doc_hosp = []\n",
    "\n",
    "for doc_id in range(total_doc_ids+1):\n",
    "    listing = list(grp_list[doc_id][1]['HOSPITAL'])\n",
    "    doc_hosp.append(listing)"
   ]
  },
  {
   "cell_type": "code",
   "execution_count": 20,
   "metadata": {
    "collapsed": true
   },
   "outputs": [],
   "source": [
    "#Creating Nodes\n",
    "\n",
    "nodes_attr = []\n",
    "for row in range(len(doc)):\n",
    "    attr = list(zip(doc.columns[1:], doc.iloc[row,1:]))\n",
    "    attr = dict(attr)\n",
    "    nodes_attr.append(attr)\n",
    "\n",
    "nodes = list(zip(doc['DOC_ID'], nodes_attr))\n",
    "G1.add_nodes_from(nodes)\n",
    "\n",
    "#modifying hospital attribute of nodes to add all the hospitals\n",
    "for node in G1.nodes():\n",
    "    G1.node[node]['HOSPITAL'] = doc_hosp[node]"
   ]
  },
  {
   "cell_type": "code",
   "execution_count": 21,
   "metadata": {},
   "outputs": [
    {
     "name": "stdout",
     "output_type": "stream",
     "text": [
      "Total Doctors(with repeatition): 7415\n",
      "Total Doctors(without repeatition): 6790\n"
     ]
    }
   ],
   "source": [
    "print('Total Doctors(with repeatition): %d\\nTotal Doctors(without repeatition): %d' %(len(doc), len(G1.nodes())))"
   ]
  },
  {
   "cell_type": "code",
   "execution_count": 22,
   "metadata": {},
   "outputs": [
    {
     "data": {
      "text/plain": [
       "{'EXPERIENCE': nan,\n",
       " 'HOSPITAL': ['Mata Chanan Devi Hospital', 'Primus Super Speciality Hospital'],\n",
       " 'NAME': 'Dr Rajat Goel',\n",
       " 'QUALIFICATION': nan,\n",
       " 'SPECIALTIES': 'GeneralSurgeon,LaparoscopicSurgeon,BariatricSurgeon'}"
      ]
     },
     "execution_count": 22,
     "metadata": {},
     "output_type": "execute_result"
    }
   ],
   "source": [
    "G1.node[12]"
   ]
  },
  {
   "cell_type": "code",
   "execution_count": 23,
   "metadata": {
    "collapsed": true
   },
   "outputs": [],
   "source": [
    "#Creating Edges\n",
    "\n",
    "for i,group in doc_net.groupby('HOSP_ID')['DOC_ID']:\n",
    "    for u,v in itertools.combinations(group, 2):\n",
    "        set_u = set(G1.node[u]['HOSPITAL'])\n",
    "        set_v = set(G1.node[v]['HOSPITAL'])\n",
    "        common_hosp = list(set_u.intersection(set_v))\n",
    "        G1.add_edge(u, v, attr_dict={'HOSPITAL':common_hosp})\n"
   ]
  },
  {
   "cell_type": "code",
   "execution_count": 24,
   "metadata": {},
   "outputs": [
    {
     "name": "stdout",
     "output_type": "stream",
     "text": [
      "Name: G1 (Node:Doctor, Edge:Hospital)\n",
      "Type: Graph\n",
      "Number of nodes: 6790\n",
      "Number of edges: 440777\n",
      "Average degree: 129.8312\n"
     ]
    }
   ],
   "source": [
    "#Summary of Graph G1\n",
    "print(nx.info(G1))"
   ]
  },
  {
   "cell_type": "code",
   "execution_count": 25,
   "metadata": {},
   "outputs": [],
   "source": [
    "# nx.write_edgelist(G1, 'G1.edges')"
   ]
  },
  {
   "cell_type": "markdown",
   "metadata": {},
   "source": [
    "## Proving Small World Analysis for Indian Doctors Network\n",
    "Any two people in the world taken at random could be connected through a chain of six links (on average). The small-world phenomenon formalises the anecdotal notion that ‘you are only ever “six degrees of separation” away from anyone else on the planet."
   ]
  },
  {
   "cell_type": "code",
   "execution_count": 26,
   "metadata": {},
   "outputs": [
    {
     "data": {
      "text/plain": [
       "{'EXPERIENCE': 41.0,\n",
       " 'HOSPITAL': ['Apollo Hospital'],\n",
       " 'NAME': 'Dr. R. Charumathi',\n",
       " 'QUALIFICATION': 'MBBS MS - General Surgery MCh - Plastic Surgery DNB - Plastic Surgery ',\n",
       " 'SPECIALTIES': 'Gynecologist,Obstetrician'}"
      ]
     },
     "execution_count": 26,
     "metadata": {},
     "output_type": "execute_result"
    }
   ],
   "source": [
    "random_doctor_id = np.random.randint(len(G1.nodes()))\n",
    "G1.node[random_doctor_id]"
   ]
  },
  {
   "cell_type": "code",
   "execution_count": 27,
   "metadata": {},
   "outputs": [
    {
     "data": {
      "text/plain": [
       "3.3252022606095166"
      ]
     },
     "execution_count": 27,
     "metadata": {},
     "output_type": "execute_result"
    }
   ],
   "source": [
    "# closeness centrality\n",
    "closeness_centrality = nx.closeness_centrality(G1)[random_doctor_id]\n",
    "avg_distance = 1/closeness_centrality\n",
    "avg_distance"
   ]
  },
  {
   "cell_type": "markdown",
   "metadata": {
    "collapsed": true
   },
   "source": [
    "Average distance of above doctor is less than 6 !!"
   ]
  },
  {
   "cell_type": "markdown",
   "metadata": {},
   "source": [
    "### Local Clustering or Community Detection \n",
    "*using Gephi 0.91*\n",
    "\n",
    "\n",
    "<center>\n",
    "    <img src=\"images/G1.png\">\n",
    "</center>\n",
    "\n",
    "\n",
    "    - different local clusters doctors are represented with different colors\n",
    "    - size of the node is directly proportional to the betweeness of that doctor in the whole network"
   ]
  },
  {
   "cell_type": "code",
   "execution_count": null,
   "metadata": {
    "collapsed": true
   },
   "outputs": [],
   "source": [
    "    "
   ]
  }
 ],
 "metadata": {
  "kernelspec": {
   "display_name": "Python 3",
   "language": "python",
   "name": "python3"
  },
  "language_info": {
   "codemirror_mode": {
    "name": "ipython",
    "version": 3
   },
   "file_extension": ".py",
   "mimetype": "text/x-python",
   "name": "python",
   "nbconvert_exporter": "python",
   "pygments_lexer": "ipython3",
   "version": "3.6.1"
  }
 },
 "nbformat": 4,
 "nbformat_minor": 2
}
