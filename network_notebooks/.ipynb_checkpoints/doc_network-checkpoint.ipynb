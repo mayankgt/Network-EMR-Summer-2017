{
 "cells": [
  {
   "cell_type": "code",
   "execution_count": 17,
   "metadata": {},
   "outputs": [],
   "source": [
    "import itertools\n",
    "import pandas as pd\n",
    "import numpy as np\n",
    "import networkx as nx\n",
    "import matplotlib.pyplot as plt\n",
    "from matplotlib import style\n",
    "style.use('ggplot')\n",
    "%matplotlib inline"
   ]
  },
  {
   "cell_type": "code",
   "execution_count": 18,
   "metadata": {
    "collapsed": true
   },
   "outputs": [],
   "source": [
    "doc = pd.read_csv('../Data(net)/doc_sample.csv')\n",
    "doc_net = pd.read_csv('../Data(net)/doc_network.csv')"
   ]
  },
  {
   "cell_type": "markdown",
   "metadata": {},
   "source": [
    "## Initializing Graph G1"
   ]
  },
  {
   "cell_type": "code",
   "execution_count": 19,
   "metadata": {
    "collapsed": true
   },
   "outputs": [],
   "source": [
    "# Graph G1 with nodes as doctors and edges as Hospitals\n",
    "G1 = nx.Graph()\n",
    "G1.name = 'G1 (Node:Doctor, Edge:Hospital)'"
   ]
  },
  {
   "cell_type": "code",
   "execution_count": 20,
   "metadata": {
    "collapsed": true
   },
   "outputs": [],
   "source": [
    "# making a list of all hospitals for which each hospital is associated\n",
    "\n",
    "grp_list = list(doc.groupby('DOC_ID'))\n",
    "total_doc_ids = 6789\n",
    "doc_hosp = []\n",
    "\n",
    "for doc_id in range(total_doc_ids+1):\n",
    "    listing = list(grp_list[doc_id][1]['HOSPITAL'])\n",
    "    doc_hosp.append(listing)"
   ]
  },
  {
   "cell_type": "code",
   "execution_count": 21,
   "metadata": {
    "collapsed": true
   },
   "outputs": [],
   "source": [
    "#Creating Nodes\n",
    "\n",
    "nodes_attr = []\n",
    "for row in range(len(doc)):\n",
    "    attr = list(zip(doc.columns[1:], doc.iloc[row,1:]))\n",
    "    attr = dict(attr)\n",
    "    nodes_attr.append(attr)\n",
    "\n",
    "nodes = list(zip(doc['DOC_ID'], nodes_attr))\n",
    "G1.add_nodes_from(nodes)\n",
    "\n",
    "#modifying hospital attribute of nodes to add all the hospitals\n",
    "for node in G1.nodes():\n",
    "    G1.node[node]['HOSPITAL'] = doc_hosp[node]"
   ]
  },
  {
   "cell_type": "code",
   "execution_count": 22,
   "metadata": {},
   "outputs": [
    {
     "name": "stdout",
     "output_type": "stream",
     "text": [
      "Total Doctors(with repeatition): 7415\n",
      "Total Doctors(without repeatition): 6790\n"
     ]
    }
   ],
   "source": [
    "print('Total Doctors(with repeatition): %d\\nTotal Doctors(without repeatition): %d' %(len(doc), len(G1.nodes())))"
   ]
  },
  {
   "cell_type": "code",
   "execution_count": 23,
   "metadata": {},
   "outputs": [
    {
     "data": {
      "text/plain": [
       "{'EXPERIENCE': nan,\n",
       " 'HOSPITAL': ['Mata Chanan Devi Hospital', 'Primus Super Speciality Hospital'],\n",
       " 'NAME': 'Dr Rajat Goel',\n",
       " 'QUALIFICATION': nan,\n",
       " 'SPECIALTIES': 'GeneralSurgeon,LaparoscopicSurgeon,BariatricSurgeon'}"
      ]
     },
     "execution_count": 23,
     "metadata": {},
     "output_type": "execute_result"
    }
   ],
   "source": [
    "G1.node[12]"
   ]
  },
  {
   "cell_type": "code",
   "execution_count": 24,
   "metadata": {
    "collapsed": true
   },
   "outputs": [],
   "source": [
    "#Creating Edges\n",
    "\n",
    "for i,group in doc_net.groupby('HOSP_ID')['DOC_ID']:\n",
    "    for u,v in itertools.combinations(group, 2):\n",
    "        set_u = set(G1.node[u]['HOSPITAL'])\n",
    "        set_v = set(G1.node[v]['HOSPITAL'])\n",
    "        common_hosp = list(set_u.intersection(set_v))\n",
    "        G1.add_edge(u, v, attr_dict={'HOSPITAL':common_hosp})\n"
   ]
  },
  {
   "cell_type": "code",
   "execution_count": 25,
   "metadata": {},
   "outputs": [
    {
     "name": "stdout",
     "output_type": "stream",
     "text": [
      "Name: G1 (Node:Doctor, Edge:Hospital)\n",
      "Type: Graph\n",
      "Number of nodes: 6790\n",
      "Number of edges: 440777\n",
      "Average degree: 129.8312\n"
     ]
    }
   ],
   "source": [
    "#Summary of Graph G1\n",
    "print(nx.info(G1))"
   ]
  },
  {
   "cell_type": "code",
   "execution_count": 26,
   "metadata": {
    "collapsed": true
   },
   "outputs": [],
   "source": [
    "# nx.write_edgelist(G1, 'G1.edges')"
   ]
  },
  {
   "cell_type": "markdown",
   "metadata": {},
   "source": [
    "## Proving Small World Analysis for Indian Doctors Network\n",
    "Any two people in the world taken at random could be connected through a chain of six links (on average). The small-world phenomenon formalises the anecdotal notion that ‘you are only ever “six degrees of separation” away from anyone else on the planet."
   ]
  },
  {
   "cell_type": "code",
   "execution_count": 27,
   "metadata": {},
   "outputs": [
    {
     "data": {
      "text/plain": [
       "{'EXPERIENCE': nan,\n",
       " 'HOSPITAL': ['Premier Hospital'],\n",
       " 'NAME': 'Dr. Raghunath',\n",
       " 'QUALIFICATION': nan,\n",
       " 'SPECIALTIES': 'Pediatrician'}"
      ]
     },
     "execution_count": 27,
     "metadata": {},
     "output_type": "execute_result"
    }
   ],
   "source": [
    "random_doctor_id = np.random.randint(len(G1.nodes()))\n",
    "G1.node[random_doctor_id]"
   ]
  },
  {
   "cell_type": "code",
   "execution_count": 28,
   "metadata": {},
   "outputs": [],
   "source": [
    "# closeness centrality\n",
    "closeness_centrality = nx.closeness_centrality(G1)[random_doctor_id]\n",
    "#avg_distance = 1/closeness_centrality\n",
    "#avg_distance"
   ]
  },
  {
   "cell_type": "markdown",
   "metadata": {
    "collapsed": true
   },
   "source": [
    "Average distance of above doctor is less than 6 !!"
   ]
  },
  {
   "cell_type": "markdown",
   "metadata": {},
   "source": [
    "### Local Clustering or Community Detection \n",
    "*using Gephi 0.91*\n",
    "\n",
    "\n",
    "<center>\n",
    "    <img src=\"images/G1.png\">\n",
    "</center>\n",
    "\n",
    "\n",
    "    - different local clusters doctors are represented with different colors\n",
    "    - size of the node is directly proportional to the betweeness of that doctor in the whole network"
   ]
  },
  {
   "cell_type": "code",
   "execution_count": 35,
   "metadata": {},
   "outputs": [
    {
     "data": {
      "text/plain": [
       "64.91561119293078"
      ]
     },
     "execution_count": 35,
     "metadata": {},
     "output_type": "execute_result"
    }
   ],
   "source": [
    "k = len(G1.edges())/len(G1.nodes())\n",
    "k"
   ]
  },
  {
   "cell_type": "code",
   "execution_count": 30,
   "metadata": {},
   "outputs": [
    {
     "data": {
      "text/plain": [
       "3.4887507883332343"
      ]
     },
     "execution_count": 30,
     "metadata": {},
     "output_type": "execute_result"
    }
   ],
   "source": [
    "larg_conn_comp = max(nx.connected_component_subgraphs(G1), key=len)\n",
    "L_actual = nx.average_shortest_path_length(larg_conn_comp)\n",
    "L_actual"
   ]
  },
  {
   "cell_type": "code",
   "execution_count": 31,
   "metadata": {},
   "outputs": [
    {
     "data": {
      "text/plain": [
       "2.1143110163959897"
      ]
     },
     "execution_count": 31,
     "metadata": {},
     "output_type": "execute_result"
    }
   ],
   "source": [
    "n = len(G1.nodes())\n",
    "edge_creation_prob = np.log(n)/np.log(k)\n",
    "#random_larg_conn_comp = nx.fast_gnp_random_graph(n, edge_creation_prob)\n",
    "#L_random = nx.average_shortest_path_length(random_larg_conn_comp)\n",
    "L_random = edge_creation_prob\n",
    "L_random"
   ]
  },
  {
   "cell_type": "code",
   "execution_count": 32,
   "metadata": {},
   "outputs": [
    {
     "data": {
      "text/plain": [
       "0.9711208282161774"
      ]
     },
     "execution_count": 32,
     "metadata": {},
     "output_type": "execute_result"
    }
   ],
   "source": [
    "C_actual = nx.average_clustering(larg_conn_comp, weight='weight')\n",
    "C_actual"
   ]
  },
  {
   "cell_type": "code",
   "execution_count": 33,
   "metadata": {},
   "outputs": [
    {
     "data": {
      "text/plain": [
       "0.009560472929739439"
      ]
     },
     "execution_count": 33,
     "metadata": {},
     "output_type": "execute_result"
    }
   ],
   "source": [
    "edge_creation_prob = k/n\n",
    "#random_larg_conn_comp = nx.fast_gnp_random_graph(n, edge_creation_prob)\n",
    "#C_random = nx.average_clustering(random_larg_conn_comp, weight='weight')\n",
    "C_random = edge_creation_prob\n",
    "C_random"
   ]
  },
  {
   "cell_type": "code",
   "execution_count": 34,
   "metadata": {},
   "outputs": [
    {
     "data": {
      "text/plain": [
       "61.559178795807618"
      ]
     },
     "execution_count": 34,
     "metadata": {},
     "output_type": "execute_result"
    }
   ],
   "source": [
    "sw = (C_actual/L_actual)*(L_random/C_random)\n",
    "sw"
   ]
  },
  {
   "cell_type": "markdown",
   "metadata": {},
   "source": [
    "Calculating degree cetrality"
   ]
  },
  {
   "cell_type": "code",
   "execution_count": 38,
   "metadata": {},
   "outputs": [
    {
     "data": {
      "text/plain": [
       "[(3636, 839), (1857, 746), (232, 708), (2946, 691), (772, 689)]"
      ]
     },
     "execution_count": 38,
     "metadata": {},
     "output_type": "execute_result"
    }
   ],
   "source": [
    "# top 5 doctors sorted according to their degrees\n",
    "sorted(G1.degree().items(), key=lambda x:x[1], reverse=True)[:5]"
   ]
  },
  {
   "cell_type": "code",
   "execution_count": 39,
   "metadata": {},
   "outputs": [
    {
     "name": "stdout",
     "output_type": "stream",
     "text": [
      "[(3636, 0.12358226542937105), (1857, 0.10988363529238475), (232, 0.1042863455589925), (2946, 0.10178229488879069), (772, 0.10148770069229636)]\n"
     ]
    },
    {
     "data": {
      "text/plain": [
       "{'EXPERIENCE': 23.0,\n",
       " 'HOSPITAL': ['Max Super Speciality Hospital'],\n",
       " 'NAME': 'Dr Sunil Kumar Chakravarty',\n",
       " 'QUALIFICATION': 'MBBS MD - Dermatology , Venereology & Leprosy DNB - Dermatology & Venereology ',\n",
       " 'SPECIALTIES': 'Gastroenterologist'}"
      ]
     },
     "execution_count": 39,
     "metadata": {},
     "output_type": "execute_result"
    }
   ],
   "source": [
    "degree_centrality = nx.degree_centrality(G1)\n",
    "print(sorted(degree_centrality.items(), key=lambda x:x[1], reverse=True)[:5])\n",
    "G1.node[17]"
   ]
  },
  {
   "cell_type": "markdown",
   "metadata": {},
   "source": [
    "2. Closeness Centrality"
   ]
  },
  {
   "cell_type": "code",
   "execution_count": 41,
   "metadata": {},
   "outputs": [
    {
     "data": {
      "text/plain": [
       "[(3636, 0.4004551440976643),\n",
       " (2993, 0.38039245512341135),\n",
       " (772, 0.37961244526428367),\n",
       " (2946, 0.37785772331174733),\n",
       " (122, 0.3763890423325413)]"
      ]
     },
     "execution_count": 41,
     "metadata": {},
     "output_type": "execute_result"
    }
   ],
   "source": [
    "closeness_centrality = nx.closeness_centrality(G1)\n",
    "sorted(closeness_centrality.items(), key=lambda x:x[1], reverse=True)[:5]    #top5 "
   ]
  },
  {
   "cell_type": "markdown",
   "metadata": {},
   "source": [
    "Betweenness centrality"
   ]
  },
  {
   "cell_type": "code",
   "execution_count": 44,
   "metadata": {},
   "outputs": [
    {
     "data": {
      "text/plain": [
       "[(4295, 0.06307412969632163),\n",
       " (747, 0.061583123651714554),\n",
       " (3913, 0.04960398710107837),\n",
       " (3384, 0.046661307328883045),\n",
       " (1862, 0.04517116404930446)]"
      ]
     },
     "execution_count": 44,
     "metadata": {},
     "output_type": "execute_result"
    }
   ],
   "source": [
    "betweeness_centrality = nx.betweenness_centrality(G1)\n",
    "sorted(betweeness_centrality.items(), key=lambda x:x[1], reverse=True)[:5]    #top5 "
   ]
  },
  {
   "cell_type": "code",
   "execution_count": null,
   "metadata": {
    "collapsed": true
   },
   "outputs": [],
   "source": []
  }
 ],
 "metadata": {
  "kernelspec": {
   "display_name": "Python 3",
   "language": "python",
   "name": "python3"
  },
  "language_info": {
   "codemirror_mode": {
    "name": "ipython",
    "version": 3
   },
   "file_extension": ".py",
   "mimetype": "text/x-python",
   "name": "python",
   "nbconvert_exporter": "python",
   "pygments_lexer": "ipython3",
   "version": "3.6.1"
  }
 },
 "nbformat": 4,
 "nbformat_minor": 2
}
