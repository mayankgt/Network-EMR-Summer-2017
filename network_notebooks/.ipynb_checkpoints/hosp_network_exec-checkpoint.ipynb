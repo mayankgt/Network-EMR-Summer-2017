{
 "cells": [
  {
   "cell_type": "code",
   "execution_count": 71,
   "metadata": {
    "collapsed": true
   },
   "outputs": [],
   "source": [
    "import csv\n",
    "import pandas as pd\n",
    "import networkx as nx\n",
    "import itertools"
   ]
  },
  {
   "cell_type": "code",
   "execution_count": 72,
   "metadata": {},
   "outputs": [],
   "source": [
    "#reading data from csv.\n",
    "execu = pd.read_csv('../Data(net)/unique_exec_network.csv')\n",
    "hosp_name = pd.read_csv('../Data(net)/hosp_sample.csv')\n",
    "exec_name = pd.read_csv('../Data(net)/exec_sample.csv')"
   ]
  },
  {
   "cell_type": "code",
   "execution_count": 73,
   "metadata": {},
   "outputs": [],
   "source": [
    "#sorting the data.\n",
    "execu = execu.sort_values(['EXEC_ID']).reset_index(drop=True)"
   ]
  },
  {
   "cell_type": "code",
   "execution_count": 76,
   "metadata": {},
   "outputs": [],
   "source": [
    "#creating the graph.\n",
    "G = nx.Graph()\n",
    "G.name = 'G4 (Node:Hospitals, Edge:Executives)'"
   ]
  },
  {
   "cell_type": "code",
   "execution_count": 86,
   "metadata": {},
   "outputs": [],
   "source": [
    "#creating nodes.\n",
    "#note that the executives are from the unique hospitals.\n",
    "for i in execu['HOSP_ID']:\n",
    "    G.add_node(i, hname = hosp_name['HOSPITAL NAME'][i])"
   ]
  },
  {
   "cell_type": "code",
   "execution_count": 90,
   "metadata": {},
   "outputs": [],
   "source": [
    "for i in execu.index:\n",
    "    for j in execu.index[(i+1): ]:\n",
    "        if execu['EXEC_ID'][j]==execu['EXEC_ID'][i]:\n",
    "            G.add_edge(execu['HOSP_ID'][j], execu['HOSP_ID'][i], eName = exec_name['EXECUTIVE NAME'][execu['EXEC_ID'][i]])\n",
    "    "
   ]
  },
  {
   "cell_type": "code",
   "execution_count": 93,
   "metadata": {},
   "outputs": [],
   "source": [
    "nx.write_gexf(G, 'G4.gexf')"
   ]
  },
  {
   "cell_type": "code",
   "execution_count": null,
   "metadata": {
    "collapsed": true
   },
   "outputs": [],
   "source": []
  }
 ],
 "metadata": {
  "kernelspec": {
   "display_name": "Python 3",
   "language": "python",
   "name": "python3"
  },
  "language_info": {
   "codemirror_mode": {
    "name": "ipython",
    "version": 3
   },
   "file_extension": ".py",
   "mimetype": "text/x-python",
   "name": "python",
   "nbconvert_exporter": "python",
   "pygments_lexer": "ipython3",
   "version": "3.6.1"
  }
 },
 "nbformat": 4,
 "nbformat_minor": 2
}
