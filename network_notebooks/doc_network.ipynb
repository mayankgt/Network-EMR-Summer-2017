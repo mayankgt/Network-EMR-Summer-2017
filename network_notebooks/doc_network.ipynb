{
 "cells": [
  {
   "cell_type": "code",
   "execution_count": 13,
   "metadata": {
    "collapsed": true
   },
   "outputs": [],
   "source": [
    "import itertools\n",
    "import pandas as pd\n",
    "import numpy as np\n",
    "import networkx as nx\n",
    "import nxviz as nv\n",
    "\n",
    "import matplotlib.pyplot as plt\n",
    "from matplotlib import style\n",
    "style.use('ggplot')\n",
    "%matplotlib inline"
   ]
  },
  {
   "cell_type": "code",
   "execution_count": 5,
   "metadata": {
    "collapsed": true
   },
   "outputs": [],
   "source": [
    "doc = pd.read_csv('../Data(net)/doc_sample.csv')\n",
    "doc_net = pd.read_csv('../Data(net)/doc_network.csv')"
   ]
  },
  {
   "cell_type": "markdown",
   "metadata": {},
   "source": [
    "## Initializing Graph G1"
   ]
  },
  {
   "cell_type": "code",
   "execution_count": 6,
   "metadata": {
    "collapsed": true
   },
   "outputs": [],
   "source": [
    "# Graph G1 with nodes as doctors and edges as Hospitals\n",
    "G1 = nx.Graph()\n",
    "G1.name = 'G1 (Node:Doctor, Edge:Hospital)'"
   ]
  },
  {
   "cell_type": "code",
   "execution_count": 7,
   "metadata": {
    "collapsed": true
   },
   "outputs": [],
   "source": [
    "# making a list of all hospitals for which each hospital is associated\n",
    "\n",
    "grp_list = list(doc.groupby('DOC_ID'))\n",
    "total_doc_ids = 6789\n",
    "doc_hosp = []\n",
    "\n",
    "for doc_id in range(total_doc_ids+1):\n",
    "    listing = list(grp_list[doc_id][1]['HOSPITAL'])\n",
    "    doc_hosp.append(listing)"
   ]
  },
  {
   "cell_type": "code",
   "execution_count": 8,
   "metadata": {
    "collapsed": true
   },
   "outputs": [],
   "source": [
    "#Creating Nodes\n",
    "\n",
    "nodes_attr = []\n",
    "for row in range(len(doc)):\n",
    "    attr = list(zip(doc.columns[1:], doc.iloc[row,1:]))\n",
    "    attr = dict(attr)\n",
    "    nodes_attr.append(attr)\n",
    "\n",
    "nodes = list(zip(doc['DOC_ID'], nodes_attr))\n",
    "G1.add_nodes_from(nodes)\n",
    "\n",
    "#modifying hospital attribute of nodes to add all the hospitals\n",
    "for node in G1.nodes():\n",
    "    G1.node[node]['HOSPITAL'] = doc_hosp[node]"
   ]
  },
  {
   "cell_type": "code",
   "execution_count": 9,
   "metadata": {},
   "outputs": [
    {
     "name": "stdout",
     "output_type": "stream",
     "text": [
      "Total Doctors(with repeatition): 7415\n",
      "Total Doctors(without repeatition): 6790\n"
     ]
    }
   ],
   "source": [
    "print('Total Doctors(with repeatition): %d\\nTotal Doctors(without repeatition): %d' %(len(doc), len(G1.nodes())))"
   ]
  },
  {
   "cell_type": "code",
   "execution_count": 10,
   "metadata": {},
   "outputs": [
    {
     "data": {
      "text/plain": [
       "{'EXPERIENCE': nan,\n",
       " 'HOSPITAL': ['Mata Chanan Devi Hospital', 'Primus Super Speciality Hospital'],\n",
       " 'NAME': 'Dr Rajat Goel',\n",
       " 'QUALIFICATION': nan,\n",
       " 'SPECIALTIES': 'GeneralSurgeon,LaparoscopicSurgeon,BariatricSurgeon'}"
      ]
     },
     "execution_count": 10,
     "metadata": {},
     "output_type": "execute_result"
    }
   ],
   "source": [
    "G1.node[12]"
   ]
  },
  {
   "cell_type": "code",
   "execution_count": 11,
   "metadata": {
    "collapsed": true
   },
   "outputs": [],
   "source": [
    "#Creating Edges\n",
    "\n",
    "for i,group in doc_net.groupby('HOSP_ID')['DOC_ID']:\n",
    "    for u,v in itertools.combinations(group, 2):\n",
    "        set_u = set(G1.node[u]['HOSPITAL'])\n",
    "        set_v = set(G1.node[v]['HOSPITAL'])\n",
    "        common_hosp = list(set_u.intersection(set_v))\n",
    "        G1.add_edge(u, v, attr_dict={'HOSPITAL':common_hosp})\n"
   ]
  },
  {
   "cell_type": "code",
   "execution_count": 12,
   "metadata": {},
   "outputs": [
    {
     "name": "stdout",
     "output_type": "stream",
     "text": [
      "Name: G1 (Node:Doctor, Edge:Hospital)\n",
      "Type: Graph\n",
      "Number of nodes: 6790\n",
      "Number of edges: 440777\n",
      "Average degree: 129.8312\n"
     ]
    }
   ],
   "source": [
    "#Summary of Graph G1\n",
    "print(nx.info(G1))"
   ]
  },
  {
   "cell_type": "markdown",
   "metadata": {},
   "source": [
    "## Network Analysis"
   ]
  },
  {
   "cell_type": "code",
   "execution_count": 14,
   "metadata": {},
   "outputs": [
    {
     "name": "stderr",
     "output_type": "stream",
     "text": [
      "/home/robsr/miniconda3/lib/python3.6/site-packages/networkx/drawing/nx_pylab.py:126: MatplotlibDeprecationWarning: pyplot.hold is deprecated.\n",
      "    Future behavior will be consistent with the long-time default:\n",
      "    plot commands add elements without first clearing the\n",
      "    Axes and/or Figure.\n",
      "  b = plt.ishold()\n",
      "/home/robsr/miniconda3/lib/python3.6/site-packages/networkx/drawing/nx_pylab.py:138: MatplotlibDeprecationWarning: pyplot.hold is deprecated.\n",
      "    Future behavior will be consistent with the long-time default:\n",
      "    plot commands add elements without first clearing the\n",
      "    Axes and/or Figure.\n",
      "  plt.hold(b)\n",
      "/home/robsr/miniconda3/lib/python3.6/site-packages/matplotlib/__init__.py:917: UserWarning: axes.hold is deprecated. Please remove it from your matplotlibrc and/or style files.\n",
      "  warnings.warn(self.msg_depr_set % key)\n",
      "/home/robsr/miniconda3/lib/python3.6/site-packages/matplotlib/rcsetup.py:152: UserWarning: axes.hold is deprecated, will be removed in 3.0\n",
      "  warnings.warn(\"axes.hold is deprecated, will be removed in 3.0\")\n"
     ]
    },
    {
     "data": {
      "image/png": "[encoded data removed]",
      "text/plain": [
       "<matplotlib.figure.Figure at 0x7f0299005a58>"
      ]
     },
     "metadata": {},
     "output_type": "display_data"
    }
   ],
   "source": [
    "nx.draw(G1, with_labels=True)"
   ]
  }
 ],
 "metadata": {
  "kernelspec": {
   "display_name": "Python 3",
   "language": "python",
   "name": "python3"
  },
  "language_info": {
   "codemirror_mode": {
    "name": "ipython",
    "version": 3
   },
   "file_extension": ".py",
   "mimetype": "text/x-python",
   "name": "python",
   "nbconvert_exporter": "python",
   "pygments_lexer": "ipython3",
   "version": "3.6.1"
  }
 },
 "nbformat": 4,
 "nbformat_minor": 2
}
