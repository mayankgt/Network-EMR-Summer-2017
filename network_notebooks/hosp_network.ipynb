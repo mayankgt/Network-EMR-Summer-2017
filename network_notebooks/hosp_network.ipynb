{
 "cells": [
  {
   "cell_type": "code",
   "execution_count": 1,
   "metadata": {
    "collapsed": true
   },
   "outputs": [],
   "source": [
    "import itertools\n",
    "import pandas as pd\n",
    "import numpy as np\n",
    "import networkx as nx\n",
    "from networkx.algorithms.community import k_clique_communities\n",
    "\n",
    "import matplotlib.pyplot as plt\n",
    "\n",
    "%matplotlib inline"
   ]
  },
  {
   "cell_type": "code",
   "execution_count": 2,
   "metadata": {
    "collapsed": true
   },
   "outputs": [],
   "source": [
    "hosp = pd.read_csv('../Data(net)/hosp_sample.csv')\n",
    "doc = pd.read_csv('../Data(net)/doc_sample.csv')\n",
    "doc_net = pd.read_csv('../Data(net)/doc_network.csv')"
   ]
  },
  {
   "cell_type": "code",
   "execution_count": 3,
   "metadata": {
    "collapsed": true
   },
   "outputs": [],
   "source": [
    "def common_doc_names(Graph, node1_id, node2_id):\n",
    "    name_list = []\n",
    "    id_list = Graph.edge[node1_id][node2_id]['common_doc_ids']\n",
    "    for ids in id_list:\n",
    "        name_list.append(doc.iloc[ids,1])\n",
    "    return name_list"
   ]
  },
  {
   "cell_type": "code",
   "execution_count": 4,
   "metadata": {
    "collapsed": true
   },
   "outputs": [],
   "source": [
    "# Graph G2 with nodes as hospitals and edges as doctors\n",
    "G2 = nx.Graph()\n",
    "G2.name = 'G2 (Node:Hospital, Edge:Doctors)'"
   ]
  },
  {
   "cell_type": "code",
   "execution_count": 5,
   "metadata": {
    "collapsed": true
   },
   "outputs": [],
   "source": [
    "#Creating Nodes\n",
    "\n",
    "nodes_attr = []\n",
    "for row in range(len(hosp)):\n",
    "    attr = list(zip(hosp.columns[1:5], hosp.iloc[row,1:5]))\n",
    "    attr = dict(attr)\n",
    "    nodes_attr.append(attr)\n",
    "\n",
    "nodes = list(zip(hosp['HOSP_ID'], nodes_attr))\n",
    "G2.add_nodes_from(nodes)\n"
   ]
  },
  {
   "cell_type": "code",
   "execution_count": 6,
   "metadata": {
    "collapsed": true
   },
   "outputs": [],
   "source": [
    "#Creating Edges\n",
    "for i,group in doc_net.groupby('DOC_ID')['HOSP_ID']:\n",
    "    for u,v in itertools.combinations(group,2):\n",
    "        set_u = set(doc_net[doc_net['HOSP_ID'] == u].DOC_ID)\n",
    "        set_v = set(doc_net[doc_net['HOSP_ID'] == v].DOC_ID)\n",
    "        common_doc_ids = set_u.intersection(set_v)\n",
    "        G2.add_edge(u, v, {'common_doc_ids':list(common_doc_ids), 'weight':len(common_doc_ids)})\n"
   ]
  },
  {
   "cell_type": "code",
   "execution_count": 7,
   "metadata": {
    "collapsed": true
   },
   "outputs": [],
   "source": [
    "# sorted(G2.edges(data=True), key=lambda x:x[2]['weight'], reverse=True)[:5]"
   ]
  },
  {
   "cell_type": "code",
   "execution_count": 8,
   "metadata": {
    "collapsed": true
   },
   "outputs": [],
   "source": [
    "# nx.write_weighted_edgelist(G2, 'G2.edges')"
   ]
  },
  {
   "cell_type": "code",
   "execution_count": 9,
   "metadata": {},
   "outputs": [
    {
     "data": {
      "text/plain": [
       "{'HOSPITAL NAME': 'Max Super Speciality Hospital',\n",
       " 'LOCATION': 'Saket, Delhi',\n",
       " 'NO. OF BEDS': 250,\n",
       " 'NO. OF DOCTORS': 259}"
      ]
     },
     "execution_count": 9,
     "metadata": {},
     "output_type": "execute_result"
    }
   ],
   "source": [
    "G2.node[1]"
   ]
  },
  {
   "cell_type": "markdown",
   "metadata": {},
   "source": [
    "## Analysis"
   ]
  },
  {
   "cell_type": "markdown",
   "metadata": {},
   "source": [
    "### Visualization of the Hospital Network\n",
    "    -Number on the nodes represent Ids of the hospitals.\n",
    "    -More dense the edge more no. of doctors are being shared between those two nodes.\n",
    "    -High size of node represents the high betweenness of that node.\n",
    "    -Different color represents different Communities or rather the location of the hospitals eg.\n",
    "        -violet ones mostly are from delhi\n",
    "        -green ones are from bangalore and other south areas\n",
    "\n",
    "<center>\n",
    "    <img src=\"images/G2.png\">\n",
    "</center>\n",
    "\n",
    "                                                                                              using _Gephi0.91_"
   ]
  },
  {
   "cell_type": "code",
   "execution_count": 10,
   "metadata": {},
   "outputs": [
    {
     "name": "stdout",
     "output_type": "stream",
     "text": [
      "Name: G2 (Node:Hospital, Edge:Doctors)\n",
      "Type: Graph\n",
      "Number of nodes: 141\n",
      "Number of edges: 379\n",
      "Average degree:   5.3759\n"
     ]
    }
   ],
   "source": [
    "# Graph Summary\n",
    "print(nx.info(G2))"
   ]
  },
  {
   "cell_type": "markdown",
   "metadata": {},
   "source": [
    "#### 1. Degree Centrality- \n",
    "The degree of a node is the number of other nodes to which it is connected.\n",
    "$$ {C_D (u)} = \\frac{deg(u)}{{n-1}} $$"
   ]
  },
  {
   "cell_type": "code",
   "execution_count": 11,
   "metadata": {},
   "outputs": [
    {
     "data": {
      "text/plain": [
       "[(17, 35), (2, 23), (1, 18), (3, 18), (11, 18)]"
      ]
     },
     "execution_count": 11,
     "metadata": {},
     "output_type": "execute_result"
    }
   ],
   "source": [
    "# top 5 hospitals sorted according to their degrees\n",
    "sorted(G2.degree().items(), key=lambda x:x[1], reverse=True)[:5]   # ex. (17,15) 17 is hosp_id and 35 is its degree"
   ]
  },
  {
   "cell_type": "code",
   "execution_count": 12,
   "metadata": {},
   "outputs": [
    {
     "name": "stdout",
     "output_type": "stream",
     "text": [
      "[(17, 0.25), (2, 0.16428571428571428), (1, 0.12857142857142856), (3, 0.12857142857142856), (11, 0.12857142857142856)]\n"
     ]
    },
    {
     "data": {
      "text/plain": [
       "{'HOSPITAL NAME': 'Fortis Hospital',\n",
       " 'LOCATION': 'Mulund West, Mumbai',\n",
       " 'NO. OF BEDS': 261,\n",
       " 'NO. OF DOCTORS': 117}"
      ]
     },
     "execution_count": 12,
     "metadata": {},
     "output_type": "execute_result"
    }
   ],
   "source": [
    "degree_centrality = nx.degree_centrality(G2)\n",
    "print(sorted(degree_centrality.items(), key=lambda x:x[1], reverse=True)[:5])\n",
    "G2.node[17]"
   ]
  },
  {
   "cell_type": "markdown",
   "metadata": {},
   "source": [
    "Fortis Hospital Mumbai is the most connected hospital of all , it is connected to $25\\%$ of other hospitals."
   ]
  },
  {
   "cell_type": "markdown",
   "metadata": {},
   "source": [
    "#### 2. Closeness Centrality\n",
    "Closeness Centrality measures how many \"hops\" it would take to reach every other node in a network (taking the shortest path). It can be informally thought as 'average distance' to all other nodes.\n",
    "\n",
    "$$ C_C (u) = \\frac{n - 1}{\\sum_{v=1}^{n-1} d(v, u)} $$"
   ]
  },
  {
   "cell_type": "code",
   "execution_count": 13,
   "metadata": {},
   "outputs": [
    {
     "data": {
      "text/plain": [
       "[(17, 0.4062248995983936),\n",
       " (2, 0.38314393939393937),\n",
       " (1, 0.36916058394160584),\n",
       " (3, 0.3651624548736462),\n",
       " (0, 0.35)]"
      ]
     },
     "execution_count": 13,
     "metadata": {},
     "output_type": "execute_result"
    }
   ],
   "source": [
    "closeness_centrality = nx.closeness_centrality(G2)\n",
    "sorted(closeness_centrality.items(), key=lambda x:x[1], reverse=True)[:5]    #top5 "
   ]
  },
  {
   "cell_type": "markdown",
   "metadata": {},
   "source": [
    "Averge distance of hospa from every other hospital is simply $\\frac{1}{C_C (a)}$"
   ]
  },
  {
   "cell_type": "code",
   "execution_count": 14,
   "metadata": {},
   "outputs": [
    {
     "data": {
      "text/plain": [
       "2.4616905585763718"
      ]
     },
     "execution_count": 14,
     "metadata": {},
     "output_type": "execute_result"
    }
   ],
   "source": [
    "1/closeness_centrality[17]"
   ]
  },
  {
   "cell_type": "markdown",
   "metadata": {},
   "source": [
    "#### 3. Betweenness Centrality\n",
    "Betweenness centrality quantifies the number of times a node acts as a bridge (or \"broker\") along the shortest path between two other nodes.\n",
    "\n",
    "In this conception, vertices that have a high probability to occur on a randomly chosen shortest path between two randomly chosen vertices have a high betweenness.\n",
    "\n",
    "$$ C_B(v) =\\sum_{s,t \\in V} \\frac{\\sigma(s, t|v)}{\\sigma(s, t)} $$\n",
    "\n",
    "where ${\\sigma(s, t)}$ is total number of shortest paths from node ${s}$ to node ${t}$ and ${\\sigma(s, t|v)}$ is the number of those paths that pass through ${v}$."
   ]
  },
  {
   "cell_type": "code",
   "execution_count": 15,
   "metadata": {},
   "outputs": [
    {
     "data": {
      "text/plain": [
       "[(17, 0.15776707748374744),\n",
       " (2, 0.1066610436817018),\n",
       " (4, 0.08501768870258668),\n",
       " (25, 0.07427354521904563),\n",
       " (11, 0.058137960038108415)]"
      ]
     },
     "execution_count": 15,
     "metadata": {},
     "output_type": "execute_result"
    }
   ],
   "source": [
    "betweeness_centrality = nx.betweenness_centrality(G2)\n",
    "sorted(betweeness_centrality.items(), key=lambda x:x[1], reverse=True)[:5]    #top5 "
   ]
  },
  {
   "cell_type": "markdown",
   "metadata": {},
   "source": [
    "#### 4. Eigenvector Centrality\n",
    "A node is high in eigenvector centrality if it is connected to many other nodes who are themselves well connected."
   ]
  },
  {
   "cell_type": "code",
   "execution_count": 16,
   "metadata": {},
   "outputs": [
    {
     "name": "stdout",
     "output_type": "stream",
     "text": [
      "(11, 0.5435779396925311)\n"
     ]
    }
   ],
   "source": [
    "eigenvector_centrality = nx.eigenvector_centrality_numpy(G2)\n",
    "max_value = max(eigenvector_centrality.items(), key=lambda x: x[1])\n",
    "print(max_value)"
   ]
  },
  {
   "cell_type": "code",
   "execution_count": 17,
   "metadata": {},
   "outputs": [
    {
     "name": "stdout",
     "output_type": "stream",
     "text": [
      "[(11, 1.0), (20, 0.9824094753506462), (18, 0.5201068441382659), (1, 0.5157015885414332), (17, 0.3577478261340102)]\n"
     ]
    },
    {
     "data": {
      "text/plain": [
       "{'HOSPITAL NAME': 'Max Superspeciality Hospital',\n",
       " 'LOCATION': 'Shalimar Bagh, Delhi',\n",
       " 'NO. OF BEDS': 300,\n",
       " 'NO. OF DOCTORS': 135}"
      ]
     },
     "execution_count": 17,
     "metadata": {},
     "output_type": "execute_result"
    }
   ],
   "source": [
    "ec_scaled = {}\n",
    "for k in eigenvector_centrality.keys():\n",
    "    ec_scaled[k] = eigenvector_centrality[k] / max_value[1]\n",
    "\n",
    "# Scaled by the most central hospital Max Superspeciality Hospital\n",
    "print(sorted(ec_scaled.items(), key=lambda x:x[1], reverse=True)[0:5])\n",
    "\n",
    "G2.node[11]"
   ]
  },
  {
   "cell_type": "code",
   "execution_count": 18,
   "metadata": {},
   "outputs": [
    {
     "data": {
      "text/plain": [
       "141"
      ]
     },
     "execution_count": 18,
     "metadata": {},
     "output_type": "execute_result"
    }
   ],
   "source": [
    "no_of_connected_hosps = len(G2) # every other hospital is connected to atleast one hospital.\n",
    "no_of_connected_hosps"
   ]
  },
  {
   "cell_type": "markdown",
   "metadata": {},
   "source": [
    "Max Superspeciality Hospital is the most central of all of the hospitals."
   ]
  },
  {
   "cell_type": "markdown",
   "metadata": {},
   "source": [
    "### Some Important Coefficients (Davis 2003)"
   ]
  },
  {
   "cell_type": "code",
   "execution_count": 79,
   "metadata": {},
   "outputs": [
    {
     "data": {
      "text/plain": [
       "2.6879432624113475"
      ]
     },
     "execution_count": 79,
     "metadata": {},
     "output_type": "execute_result"
    }
   ],
   "source": [
    "# k is average ties of graph per node (interlock per node, Davis(2003))\n",
    "k = len(G2.edges()) / len(G2.nodes())\n",
    "k"
   ]
  },
  {
   "cell_type": "markdown",
   "metadata": {},
   "source": [
    "####  $L_{actual}$ equal the average shortest path length between nodes in the largest connected component. "
   ]
  },
  {
   "cell_type": "code",
   "execution_count": 80,
   "metadata": {},
   "outputs": [
    {
     "data": {
      "text/plain": [
       "120"
      ]
     },
     "execution_count": 80,
     "metadata": {},
     "output_type": "execute_result"
    }
   ],
   "source": [
    "larg_conn_comp = max(nx.connected_component_subgraphs(G2), key=len)\n",
    "L_actual = nx.average_shortest_path_length(larg_conn_comp)\n",
    "L_actual\n",
    "\n",
    "len(larg_conn_comp.nodes())"
   ]
  },
  {
   "cell_type": "markdown",
   "metadata": {},
   "source": [
    "#### (DOUBT in L_random!!!!) $L_{equal}$ the average geodesic of the same network in which the random ties (edges) between nodes are random (approximated by $\\frac{ln(n)}{ln(k)}$) "
   ]
  },
  {
   "cell_type": "code",
   "execution_count": 81,
   "metadata": {},
   "outputs": [
    {
     "data": {
      "text/plain": [
       "5.0049336910525986"
      ]
     },
     "execution_count": 81,
     "metadata": {},
     "output_type": "execute_result"
    }
   ],
   "source": [
    "n = len(G2.nodes())\n",
    "edge_creation_prob = np.log(n)/np.log(k)\n",
    "#random_larg_conn_comp = nx.fast_gnp_random_graph(n, edge_creation_prob)\n",
    "#L_random = nx.average_shortest_path_length(random_larg_conn_comp)\n",
    "L_random = edge_creation_prob\n",
    "L_random"
   ]
  },
  {
   "cell_type": "markdown",
   "metadata": {},
   "source": [
    "####  $C_{actual}$ equal the average degree of local clustering in the largest connected component."
   ]
  },
  {
   "cell_type": "code",
   "execution_count": 82,
   "metadata": {},
   "outputs": [
    {
     "data": {
      "text/plain": [
       "0.02213462703438445"
      ]
     },
     "execution_count": 82,
     "metadata": {},
     "output_type": "execute_result"
    }
   ],
   "source": [
    "C_actual = nx.average_clustering(larg_conn_comp, weight='weight')\n",
    "C_actual"
   ]
  },
  {
   "cell_type": "markdown",
   "metadata": {},
   "source": [
    "####  $C_{random}$ is the average degree random of local clustering in the randomized network (approximated by $\\frac{k}{n}$)."
   ]
  },
  {
   "cell_type": "code",
   "execution_count": 83,
   "metadata": {},
   "outputs": [
    {
     "data": {
      "text/plain": [
       "0.01906342739298828"
      ]
     },
     "execution_count": 83,
     "metadata": {},
     "output_type": "execute_result"
    }
   ],
   "source": [
    "edge_creation_prob = k/n\n",
    "#random_larg_conn_comp = nx.fast_gnp_random_graph(n, edge_creation_prob)\n",
    "#C_random = nx.average_clustering(random_larg_conn_comp, weight='weight')\n",
    "C_random = edge_creation_prob\n",
    "C_random"
   ]
  },
  {
   "cell_type": "markdown",
   "metadata": {},
   "source": [
    "#### Small World Coefficient ($SW$)  (DOUBT-it is coming less than 1 !!!!)"
   ]
  },
  {
   "cell_type": "code",
   "execution_count": 84,
   "metadata": {},
   "outputs": [
    {
     "data": {
      "text/plain": [
       "1.8522532166206298"
      ]
     },
     "execution_count": 84,
     "metadata": {},
     "output_type": "execute_result"
    }
   ],
   "source": [
    "sw = (C_actual/L_actual)*(L_random/C_random)\n",
    "sw"
   ]
  },
  {
   "cell_type": "code",
   "execution_count": null,
   "metadata": {
    "collapsed": true
   },
   "outputs": [],
   "source": []
  }
 ],
 "metadata": {
  "kernelspec": {
   "display_name": "Python 3",
   "language": "python",
   "name": "python3"
  },
  "language_info": {
   "codemirror_mode": {
    "name": "ipython",
    "version": 3
   },
   "file_extension": ".py",
   "mimetype": "text/x-python",
   "name": "python",
   "nbconvert_exporter": "python",
   "pygments_lexer": "ipython3",
   "version": "3.6.1"
  }
 },
 "nbformat": 4,
 "nbformat_minor": 2
}
